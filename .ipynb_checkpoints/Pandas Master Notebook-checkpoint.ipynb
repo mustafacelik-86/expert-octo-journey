{
 "cells": [
  {
   "cell_type": "code",
   "execution_count": null,
   "id": "ac80d562-34e7-49b5-a28e-03ca53e46fa6",
   "metadata": {},
   "outputs": [],
   "source": [
    "a"
   ]
  }
 ],
 "metadata": {
  "kernelspec": {
   "display_name": "Python 3 (ipykernel)",
   "language": "python",
   "name": "python3"
  },
  "language_info": {
   "codemirror_mode": {
    "name": "ipython",
    "version": 3
   },
   "file_extension": ".py",
   "mimetype": "text/x-python",
   "name": "python",
   "nbconvert_exporter": "python",
   "pygments_lexer": "ipython3",
   "version": "3.12.7"
  }
 },
 "nbformat": 4,
 "nbformat_minor": 5
}
